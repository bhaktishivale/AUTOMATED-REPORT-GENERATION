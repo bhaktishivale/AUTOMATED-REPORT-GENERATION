{
 "cells": [
  {
   "cell_type": "code",
   "execution_count": 1,
   "id": "0e14f4ed-6ec6-4243-9b70-3aa8d315f8ba",
   "metadata": {},
   "outputs": [
    {
     "name": "stdout",
     "output_type": "stream",
     "text": [
      "Requirement already satisfied: pandas in c:\\users\\acer\\appdata\\local\\programs\\python\\python313\\lib\\site-packages (2.2.3)\n",
      "Collecting fpdf\n",
      "  Downloading fpdf-1.7.2.tar.gz (39 kB)\n",
      "  Installing build dependencies: started\n",
      "  Installing build dependencies: finished with status 'done'\n",
      "  Getting requirements to build wheel: started\n",
      "  Getting requirements to build wheel: finished with status 'done'\n",
      "  Preparing metadata (pyproject.toml): started\n",
      "  Preparing metadata (pyproject.toml): finished with status 'done'\n",
      "Requirement already satisfied: numpy>=1.26.0 in c:\\users\\acer\\appdata\\local\\programs\\python\\python313\\lib\\site-packages (from pandas) (2.1.3)\n",
      "Requirement already satisfied: python-dateutil>=2.8.2 in c:\\users\\acer\\appdata\\local\\programs\\python\\python313\\lib\\site-packages (from pandas) (2.9.0.post0)\n",
      "Requirement already satisfied: pytz>=2020.1 in c:\\users\\acer\\appdata\\local\\programs\\python\\python313\\lib\\site-packages (from pandas) (2024.2)\n",
      "Requirement already satisfied: tzdata>=2022.7 in c:\\users\\acer\\appdata\\local\\programs\\python\\python313\\lib\\site-packages (from pandas) (2024.2)\n",
      "Requirement already satisfied: six>=1.5 in c:\\users\\acer\\appdata\\local\\programs\\python\\python313\\lib\\site-packages (from python-dateutil>=2.8.2->pandas) (1.16.0)\n",
      "Building wheels for collected packages: fpdf\n",
      "  Building wheel for fpdf (pyproject.toml): started\n",
      "  Building wheel for fpdf (pyproject.toml): finished with status 'done'\n",
      "  Created wheel for fpdf: filename=fpdf-1.7.2-py2.py3-none-any.whl size=40769 sha256=bea329722f4caf93374bb676c46da5560039a04ffca015b2b17d5a2431c58423\n",
      "  Stored in directory: c:\\users\\acer\\appdata\\local\\pip\\cache\\wheels\\aa\\da\\11\\a3189f34ddc13c26a2d0f329eac46b728c7f31c39e4dc26243\n",
      "Successfully built fpdf\n",
      "Installing collected packages: fpdf\n",
      "Successfully installed fpdf-1.7.2\n"
     ]
    },
    {
     "name": "stderr",
     "output_type": "stream",
     "text": [
      "\n",
      "[notice] A new release of pip is available: 24.3.1 -> 25.1.1\n",
      "[notice] To update, run: python.exe -m pip install --upgrade pip\n"
     ]
    }
   ],
   "source": [
    "!pip install pandas fpdf"
   ]
  },
  {
   "cell_type": "code",
   "execution_count": 2,
   "id": "c823928b-683e-4b7c-9f62-3b09ca188e4a",
   "metadata": {},
   "outputs": [
    {
     "data": {
      "text/html": [
       "<div>\n",
       "<style scoped>\n",
       "    .dataframe tbody tr th:only-of-type {\n",
       "        vertical-align: middle;\n",
       "    }\n",
       "\n",
       "    .dataframe tbody tr th {\n",
       "        vertical-align: top;\n",
       "    }\n",
       "\n",
       "    .dataframe thead th {\n",
       "        text-align: right;\n",
       "    }\n",
       "</style>\n",
       "<table border=\"1\" class=\"dataframe\">\n",
       "  <thead>\n",
       "    <tr style=\"text-align: right;\">\n",
       "      <th></th>\n",
       "      <th>id</th>\n",
       "      <th>gender</th>\n",
       "      <th>bdate</th>\n",
       "      <th>educ</th>\n",
       "      <th>jobcat</th>\n",
       "      <th>salary</th>\n",
       "      <th>salbegin</th>\n",
       "      <th>jobtime</th>\n",
       "      <th>prevexp</th>\n",
       "      <th>minority</th>\n",
       "    </tr>\n",
       "  </thead>\n",
       "  <tbody>\n",
       "    <tr>\n",
       "      <th>0</th>\n",
       "      <td>1.0</td>\n",
       "      <td>Male</td>\n",
       "      <td>1952-02-03</td>\n",
       "      <td>15</td>\n",
       "      <td>Manager</td>\n",
       "      <td>57000.0</td>\n",
       "      <td>27000.0</td>\n",
       "      <td>98.0</td>\n",
       "      <td>144.0</td>\n",
       "      <td>No</td>\n",
       "    </tr>\n",
       "    <tr>\n",
       "      <th>1</th>\n",
       "      <td>2.0</td>\n",
       "      <td>Male</td>\n",
       "      <td>1958-05-23</td>\n",
       "      <td>16</td>\n",
       "      <td>Clerical</td>\n",
       "      <td>40200.0</td>\n",
       "      <td>18750.0</td>\n",
       "      <td>98.0</td>\n",
       "      <td>36.0</td>\n",
       "      <td>No</td>\n",
       "    </tr>\n",
       "    <tr>\n",
       "      <th>2</th>\n",
       "      <td>3.0</td>\n",
       "      <td>Female</td>\n",
       "      <td>1929-07-26</td>\n",
       "      <td>12</td>\n",
       "      <td>Clerical</td>\n",
       "      <td>21450.0</td>\n",
       "      <td>12000.0</td>\n",
       "      <td>98.0</td>\n",
       "      <td>381.0</td>\n",
       "      <td>No</td>\n",
       "    </tr>\n",
       "    <tr>\n",
       "      <th>3</th>\n",
       "      <td>4.0</td>\n",
       "      <td>Female</td>\n",
       "      <td>1947-04-15</td>\n",
       "      <td>8</td>\n",
       "      <td>Clerical</td>\n",
       "      <td>21900.0</td>\n",
       "      <td>13200.0</td>\n",
       "      <td>98.0</td>\n",
       "      <td>190.0</td>\n",
       "      <td>No</td>\n",
       "    </tr>\n",
       "    <tr>\n",
       "      <th>4</th>\n",
       "      <td>5.0</td>\n",
       "      <td>Male</td>\n",
       "      <td>1955-02-09</td>\n",
       "      <td>15</td>\n",
       "      <td>Clerical</td>\n",
       "      <td>45000.0</td>\n",
       "      <td>21000.0</td>\n",
       "      <td>98.0</td>\n",
       "      <td>138.0</td>\n",
       "      <td>No</td>\n",
       "    </tr>\n",
       "  </tbody>\n",
       "</table>\n",
       "</div>"
      ],
      "text/plain": [
       "    id  gender       bdate  educ    jobcat   salary  salbegin  jobtime  \\\n",
       "0  1.0    Male  1952-02-03    15   Manager  57000.0   27000.0     98.0   \n",
       "1  2.0    Male  1958-05-23    16  Clerical  40200.0   18750.0     98.0   \n",
       "2  3.0  Female  1929-07-26    12  Clerical  21450.0   12000.0     98.0   \n",
       "3  4.0  Female  1947-04-15     8  Clerical  21900.0   13200.0     98.0   \n",
       "4  5.0    Male  1955-02-09    15  Clerical  45000.0   21000.0     98.0   \n",
       "\n",
       "  prevexp minority  \n",
       "0   144.0       No  \n",
       "1    36.0       No  \n",
       "2   381.0       No  \n",
       "3   190.0       No  \n",
       "4   138.0       No  "
      ]
     },
     "execution_count": 2,
     "metadata": {},
     "output_type": "execute_result"
    }
   ],
   "source": [
    "import pandas as pd\n",
    "\n",
    "# Download CSV from GitHub\n",
    "url = \"https://raw.githubusercontent.com/prasertcbs/basic-dataset/master/Employee%20data.csv\"\n",
    "data = pd.read_csv(url)\n",
    "\n",
    "# Save to local file for reference\n",
    "data.to_csv(\"employee_data.csv\", index=False)\n",
    "\n",
    "# Preview data\n",
    "data.head()\n"
   ]
  },
  {
   "cell_type": "code",
   "execution_count": 6,
   "id": "e2b2d4f3-7e22-4ef2-a538-814a98d16aaa",
   "metadata": {},
   "outputs": [
    {
     "name": "stdout",
     "output_type": "stream",
     "text": [
      "Total Records: 474\n",
      "Average Salary: 34419.57\n"
     ]
    },
    {
     "data": {
      "text/html": [
       "<div>\n",
       "<style scoped>\n",
       "    .dataframe tbody tr th:only-of-type {\n",
       "        vertical-align: middle;\n",
       "    }\n",
       "\n",
       "    .dataframe tbody tr th {\n",
       "        vertical-align: top;\n",
       "    }\n",
       "\n",
       "    .dataframe thead th {\n",
       "        text-align: right;\n",
       "    }\n",
       "</style>\n",
       "<table border=\"1\" class=\"dataframe\">\n",
       "  <thead>\n",
       "    <tr style=\"text-align: right;\">\n",
       "      <th></th>\n",
       "      <th>jobcat</th>\n",
       "      <th>salary</th>\n",
       "    </tr>\n",
       "  </thead>\n",
       "  <tbody>\n",
       "    <tr>\n",
       "      <th>0</th>\n",
       "      <td>Clerical</td>\n",
       "      <td>27838.539945</td>\n",
       "    </tr>\n",
       "    <tr>\n",
       "      <th>1</th>\n",
       "      <td>Custodial</td>\n",
       "      <td>30938.888889</td>\n",
       "    </tr>\n",
       "    <tr>\n",
       "      <th>2</th>\n",
       "      <td>Manager</td>\n",
       "      <td>63977.797619</td>\n",
       "    </tr>\n",
       "  </tbody>\n",
       "</table>\n",
       "</div>"
      ],
      "text/plain": [
       "      jobcat        salary\n",
       "0   Clerical  27838.539945\n",
       "1  Custodial  30938.888889\n",
       "2    Manager  63977.797619"
      ]
     },
     "execution_count": 6,
     "metadata": {},
     "output_type": "execute_result"
    }
   ],
   "source": [
    "# Average salary overall\n",
    "avg_salary = data[\"salary\"].mean()\n",
    "\n",
    "# Department-wise average salary\n",
    "department_stats = data.groupby(\"jobcat\")[\"salary\"].mean().reset_index()\n",
    "\n",
    "# Display summary\n",
    "print(f\"Total Records: {len(data)}\")\n",
    "print(f\"Average Salary: {avg_salary:.2f}\")\n",
    "department_stats"
   ]
  },
  {
   "cell_type": "code",
   "execution_count": 9,
   "id": "6ec417fa-b2b0-4b94-afe6-f9114c881a51",
   "metadata": {},
   "outputs": [
    {
     "data": {
      "text/plain": [
       "''"
      ]
     },
     "execution_count": 9,
     "metadata": {},
     "output_type": "execute_result"
    }
   ],
   "source": [
    "from fpdf import FPDF\n",
    "\n",
    "pdf = FPDF()\n",
    "pdf.add_page()\n",
    "pdf.set_font(\"Arial\", \"B\", 16)\n",
    "pdf.cell(0, 10, \"Automated Employee Report\", ln=True, align=\"C\")\n",
    "\n",
    "pdf.set_font(\"Arial\", \"\", 12)\n",
    "pdf.ln(10)\n",
    "pdf.cell(0, 10, f\"Total Records: {len(data)}\", ln=True)\n",
    "pdf.cell(0, 10, f\"Average Salary: {avg_salary:.2f}\", ln=True)\n",
    "\n",
    "pdf.ln(10)\n",
    "pdf.set_font(\"Arial\", \"B\", 12)\n",
    "pdf.cell(0, 10, \"Average Salary by Department:\", ln=True)\n",
    "pdf.set_font(\"Arial\", \"\", 12)\n",
    "for index, row in department_stats.iterrows():\n",
    "    pdf.cell(0, 10, f\"{row['jobcat']}: {row['salary']:.2f}\", ln=True)\n",
    "\n",
    "pdf.ln(10)\n",
    "pdf.set_font(\"Arial\", \"B\", 12)\n",
    "pdf.cell(0, 10, \"Individual Records:\", ln=True)\n",
    "pdf.set_font(\"Arial\", \"\", 10)\n",
    "for _, row in data.iterrows():\n",
    "    pdf.cell(0, 10, f\"{row['id']} - {row['jobcat']} - {row['salary']}\", ln=True)\n",
    "\n",
    "# Save PDF\n",
    "pdf.output(\"employee_report.pdf\")\n"
   ]
  },
  {
   "cell_type": "code",
   "execution_count": 10,
   "id": "e0001f9c-5a3b-4800-a6dd-26cdb1b44f51",
   "metadata": {},
   "outputs": [
    {
     "data": {
      "text/html": [
       "<a href='employee_report.pdf' target='_blank'>employee_report.pdf</a><br>"
      ],
      "text/plain": [
       "C:\\Users\\Acer\\OneDrive\\Desktop\\jupyter\\python internship\\employee_report.pdf"
      ]
     },
     "execution_count": 10,
     "metadata": {},
     "output_type": "execute_result"
    }
   ],
   "source": [
    "from IPython.display import FileLink\n",
    "FileLink(\"employee_report.pdf\")"
   ]
  },
  {
   "cell_type": "code",
   "execution_count": null,
   "id": "7ed2908a-0927-4871-bc59-83c66d9dd119",
   "metadata": {},
   "outputs": [],
   "source": []
  }
 ],
 "metadata": {
  "kernelspec": {
   "display_name": "Python 3 (ipykernel)",
   "language": "python",
   "name": "python3"
  },
  "language_info": {
   "codemirror_mode": {
    "name": "ipython",
    "version": 3
   },
   "file_extension": ".py",
   "mimetype": "text/x-python",
   "name": "python",
   "nbconvert_exporter": "python",
   "pygments_lexer": "ipython3",
   "version": "3.13.0"
  }
 },
 "nbformat": 4,
 "nbformat_minor": 5
}
